{
  "cells": [
    {
      "cell_type": "markdown",
      "metadata": {
        "id": "27pvuKEntg-e"
      },
      "source": [
        "# Feedback from previous weeks and other and hints\n",
        "\n",
        "1. Be careful about your environment remembering variables. Make sure your code works in a new _clean_ environment. In Colab: `Runtime`->`restart Runtime`, in Anaconda's Jupyter: `Kernel`->`Restart`.\n",
        "2. Graphs without labels (or units when appropriate) are not worth any point.\n",
        "3. Do put in sufficient explanatory comments in your code.\n",
        "4. Functions are very important. Do look up the video on the Safari O'Reilly ressource if you are still not clear on them !\n",
        "\n",
        "For this week you can use these imports at the start of your programs:"
      ]
    },
    {
      "cell_type": "code",
      "execution_count": 2,
      "metadata": {
        "id": "UiG9cCGatg-m"
      },
      "outputs": [],
      "source": [
        "import numpy as np\n",
        "import matplotlib.pyplot as plt"
      ]
    },
    {
      "cell_type": "markdown",
      "metadata": {
        "id": "duH7AW3jtg-n"
      },
      "source": [
        "We will use a new module `uncertainties`, which is **not** standard in the colab environment. You will have to first run:"
      ]
    },
    {
      "cell_type": "code",
      "source": [],
      "metadata": {
        "id": "BfNksleJt7W-"
      },
      "execution_count": 2,
      "outputs": []
    },
    {
      "cell_type": "code",
      "execution_count": 3,
      "metadata": {
        "colab": {
          "base_uri": "https://localhost:8080/"
        },
        "id": "ceTnAjZxtg-o",
        "outputId": "f1634107-f771-4f98-fa67-6a428ba56991"
      },
      "outputs": [
        {
          "output_type": "stream",
          "name": "stdout",
          "text": [
            "\u001b[?25l   \u001b[90m━━━━━━━━━━━━━━━━━━━━━━━━━━━━━━━━━━━━━━━━\u001b[0m \u001b[32m0.0/60.1 kB\u001b[0m \u001b[31m?\u001b[0m eta \u001b[36m-:--:--\u001b[0m\r\u001b[2K   \u001b[90m━━━━━━━━━━━━━━━━━━━━━━━━━━━━━━━━━━━━━━━━\u001b[0m \u001b[32m60.1/60.1 kB\u001b[0m \u001b[31m3.0 MB/s\u001b[0m eta \u001b[36m0:00:00\u001b[0m\n",
            "\u001b[?25h"
          ]
        }
      ],
      "source": [
        "! pip install -q uncertainties"
      ]
    },
    {
      "cell_type": "markdown",
      "metadata": {
        "id": "RITb9emrtg-o"
      },
      "source": [
        "To install the module before you can import it:"
      ]
    },
    {
      "cell_type": "code",
      "source": [],
      "metadata": {
        "id": "qSmlG9H1t7JB"
      },
      "execution_count": null,
      "outputs": []
    },
    {
      "cell_type": "code",
      "execution_count": 4,
      "metadata": {
        "id": "KbOxNC62tg-o"
      },
      "outputs": [],
      "source": [
        "import uncertainties as uc\n",
        "import uncertainties.umath as um # for maths functions"
      ]
    },
    {
      "cell_type": "markdown",
      "metadata": {
        "id": "1_iWaOYVtg-o"
      },
      "source": [
        "# Introduction\n",
        "In the practical classes PX2133/PX2233 and PX2338 (Obs tech), as well as your year 3/4 project, a lot of emphasis is placed on the determination and mathematical handling of errors.\n",
        "The uncertainties module allows us to deal very easily with [error propagation](https://en.wikipedia.org/wiki/Propagation_of_uncertainty). For this sheet you should remind yourself about error bars in measurements and about propagation of uncertainties. Take an example from your lab handbook:\n",
        "\n",
        "**Example 1**: If the length of a rectangle is $1.24\\pm0.02 m$ and its breadth is $0.61\\pm0.01 m$, what is its area and the error in the area? The following code snippet solves this problem in a few lines."
      ]
    },
    {
      "cell_type": "code",
      "execution_count": null,
      "metadata": {
        "id": "mmuUqpz6tg-o",
        "outputId": "b7a60791-d1a4-4be5-ce11-b685edfe1ad0"
      },
      "outputs": [
        {
          "name": "stdout",
          "output_type": "stream",
          "text": [
            "Area is: 0.756+/-0.017 m^2\n"
          ]
        }
      ],
      "source": [
        "L = uc.ufloat(1.24, 0.02)\n",
        "W = uc.ufloat(0.61, 0.01)\n",
        "print ('Area is:', L*W, 'm^2') # Do remember to add the units when printing!"
      ]
    },
    {
      "cell_type": "markdown",
      "metadata": {
        "id": "97LbAn8utg-p"
      },
      "source": [
        "**Note**: For the area itself, it's fairly straightforward:"
      ]
    },
    {
      "cell_type": "code",
      "execution_count": null,
      "metadata": {
        "id": "sm01oxR9tg-p",
        "outputId": "6fd944b8-ebe5-427c-9dad-6895c61b7312"
      },
      "outputs": [
        {
          "data": {
            "text/plain": [
              "0.7564"
            ]
          },
          "execution_count": 5,
          "metadata": {},
          "output_type": "execute_result"
        }
      ],
      "source": [
        "1.24*0.61"
      ]
    },
    {
      "cell_type": "markdown",
      "metadata": {
        "id": "6kTl9jHjtg-p"
      },
      "source": [
        "However, for the error bar on this number:"
      ]
    },
    {
      "cell_type": "code",
      "execution_count": null,
      "metadata": {
        "id": "fn2jJAFFtg-p",
        "outputId": "6ab6f04c-0d0f-4dc7-c8bd-25c31512e4d5"
      },
      "outputs": [
        {
          "data": {
            "text/plain": [
              "0.0002"
            ]
          },
          "execution_count": 6,
          "metadata": {},
          "output_type": "execute_result"
        }
      ],
      "source": [
        "0.02*0.01"
      ]
    },
    {
      "cell_type": "markdown",
      "metadata": {
        "id": "bkKyBErwtg-q"
      },
      "source": [
        "does not work. Instead, the [error progation formula](https://en.wikipedia.org/wiki/Propagation_of_uncertainty#Example_formulae) gives:"
      ]
    },
    {
      "cell_type": "code",
      "execution_count": null,
      "metadata": {
        "id": "7vztkbbDtg-q",
        "outputId": "cf1fbcc0-9cd7-458c-f7a0-8ea51d38d997"
      },
      "outputs": [
        {
          "data": {
            "text/plain": [
              "0.01739540169125163"
            ]
          },
          "execution_count": 7,
          "metadata": {},
          "output_type": "execute_result"
        }
      ],
      "source": [
        "np.abs(1.24*0.61)*np.sqrt((0.02/1.24)**2+(0.01/0.61)**2)"
      ]
    },
    {
      "cell_type": "markdown",
      "metadata": {
        "id": "5uAIWxGKtg-q"
      },
      "source": [
        "So the area is $0.756\\pm0.017 m^2$. `uncertainties` obviously saves a lot of work, even for such a simple case. You can also take a look at the web site uncertainties hosted at https://pythonhosted.org/uncertainties/user_guide.html. In particular, [this section](https://pythonhosted.org/uncertainties/user_guide.html#access-to-the-uncertainty-and-to-the-nominal-value) shows some of the properties of a `ufloat` you can access directly.\n",
        "\n",
        "**Example 2**: A reference object is $10.0\\pm0.0001 m$ long, and makes a viewing angle of $0.62\\pm0.02 rad$. How far is it?"
      ]
    },
    {
      "cell_type": "code",
      "execution_count": null,
      "metadata": {
        "id": "qU_Kgk6mtg-q",
        "outputId": "a37c8516-9a57-403a-a805-07b580677564"
      },
      "outputs": [
        {
          "name": "stdout",
          "output_type": "stream",
          "text": [
            "Distance is: 15.609024890896208 m, with an error of: 0.537283338762715\n"
          ]
        }
      ],
      "source": [
        "L = uc.ufloat(10.0, 0.0001)\n",
        "theta = uc.ufloat(0.62,0.02)\n",
        "\n",
        "Distance = (L/2)/um.tan(theta/2)\n",
        "\n",
        "print ('Distance is:', Distance.nominal_value, 'm, with an error of:', Distance.std_dev)"
      ]
    },
    {
      "cell_type": "markdown",
      "metadata": {
        "id": "UOWoFO88tg-q"
      },
      "source": [
        "Note the need to use \"umath\" functions (like `um.tan()` instead of `np.tan()`), and how to get the nominal value and the standard deviation of the uncertainties objects. To get nicer looking output, such as controlling the number of significant digits printed, you can use the information about formatting at https://docs.python.org/3/tutorial/inputoutput.html. In the exercises below you need to print the values to the screen. (Don’t forget units.)"
      ]
    },
    {
      "cell_type": "markdown",
      "metadata": {
        "id": "S9kjymsutg-r"
      },
      "source": [
        "# Exercises\n",
        "This must be marked before you leave the lab. Mark weighting is in brackets.\n",
        "**Save your work to GitHub after having run all cells with `Runtime` -> `Restart and run all`. And do not change the notebook's filename.** Do add comments to your code, you'll lose points if your code is hard to understand. Graphs without labels (or units when appropriate) are not worth any point.\n",
        "\n",
        "## Exercise 0\n",
        "[0] With some approximations, we have measured the mass of the following black-holes:\n",
        "```\n",
        "\"35.6+/-3.9\",\"30.6+/-3.7\",\"63.1+/-3.2\",\"23.2+/-9.8\",\"13.6+/-4.5\",\"35.7+/-6.8\",\"13.7+/-6.0\",\"7.7+/-2.4\",\"20.5+/-4.0\"\n",
        "```\n",
        "Compute for each (with error-bars) their lifetime due to Hawking radiation:\n",
        "$$\n",
        "t = \\left(\\frac{M}{M_{\\odot}}\\right)^3\\,\\times\\,2.097\\,\\times\\,10^{67} yr\n",
        "$$\n",
        "\n",
        "(this exercise is for demonstration purposes and won't be marked)"
      ]
    },
    {
      "cell_type": "code",
      "execution_count": null,
      "metadata": {
        "id": "A0ca_jQwtg-r"
      },
      "outputs": [],
      "source": []
    },
    {
      "cell_type": "markdown",
      "metadata": {
        "id": "jxFOenpetg-r"
      },
      "source": [
        "## Exercise 1\n",
        "[2] An object is measured to travel a distance $x = 5.1 \\pm 0.4 m$ during a time of $t = 0.4 \\pm 0.1 s$. What is the average velocity and the error in the average velocity?"
      ]
    },
    {
      "cell_type": "code",
      "execution_count": null,
      "metadata": {
        "colab": {
          "base_uri": "https://localhost:8080/"
        },
        "id": "k6nwnKHTtg-r",
        "outputId": "e2994efb-9329-4686-9841-d6c430843e34"
      },
      "outputs": [
        {
          "output_type": "stream",
          "name": "stdout",
          "text": [
            "the area is: 12.7+/-3.3 ms^-1\n"
          ]
        }
      ],
      "source": [
        "# v = x/t\n",
        "#define each of the variables\n",
        "x = uc.ufloat(5.1, 0.4)\n",
        "t = uc.ufloat(0.4, 0.1)\n",
        "#perform the calculation\n",
        "print(f\"the area is: {x/t} ms^-1\")"
      ]
    },
    {
      "cell_type": "markdown",
      "metadata": {
        "id": "1DA52g92tg-r"
      },
      "source": [
        "## Exercise 2\n",
        "[2] An enterprising cow attempts to jump over the moon by jumping vertically into the air with initial speed $v_0=4.0\\pm0.2 m/s$. After a time $t=0.60\\pm0.06s$, the height of the cow is $h = v_0t-\\frac{1}{2}g t^2 = 0.636 m$. What is the uncertainty in $h$? Take $g$ as exactly $9.81 ms^{-2}$."
      ]
    },
    {
      "cell_type": "code",
      "execution_count": null,
      "metadata": {
        "colab": {
          "base_uri": "https://localhost:8080/"
        },
        "id": "B9FTvpXRtg-r",
        "outputId": "db251545-f013-4403-b5c9-dfa75af80aba"
      },
      "outputs": [
        {
          "output_type": "stream",
          "name": "stdout",
          "text": [
            "the height the cow jumps is 0.63 m and the uncertainty is 0.16\n",
            "the uncertainty in the height is 0.16\n"
          ]
        }
      ],
      "source": [
        "# why is there an enterprising cow?????\n",
        "#define the variables\n",
        "v_0 = uc.ufloat(4.0, 0.2)\n",
        "t = uc.ufloat(0.6, 0.06)\n",
        "g = 9.81\n",
        "#perform the calculation\n",
        "h = v_0*t - 0.5*g*t**2\n",
        "\n",
        "print(f\"the height the cow jumps is {h.nominal_value:.3} m and the uncertainty is {h.std_dev:.3}\")\n",
        "print(f\"the uncertainty in the height is {h.std_dev:.3}\")"
      ]
    },
    {
      "cell_type": "markdown",
      "metadata": {
        "id": "J_NEokzAtg-r"
      },
      "source": [
        "## Exercise 3\n",
        "[2] In an optics experiment the object distance $u$ is measured to be 20cm and the image distance $v$ is 10cm, both to an accuracy of 0.5cm. Find the focal length $f$ of the lens using the formula:\n",
        "\n",
        "$$ \\frac{1}{u}+\\frac{1}{v}=\\frac{1}{f}$$"
      ]
    },
    {
      "cell_type": "code",
      "execution_count": null,
      "metadata": {
        "colab": {
          "base_uri": "https://localhost:8080/"
        },
        "id": "tY7ijtPVtg-r",
        "outputId": "29c33e35-ef31-48c2-ce6c-018c53216291"
      },
      "outputs": [
        {
          "output_type": "stream",
          "name": "stdout",
          "text": [
            "the focal length is 6.67 cm and the error is 0.229\n"
          ]
        }
      ],
      "source": [
        "#define the variables\n",
        "u = uc.ufloat(20, 0.5)\n",
        "v = uc.ufloat(10, 0.5)\n",
        "\n",
        "#perform the calculation\n",
        "f = 1/(1/u + 1/v)\n",
        "\n",
        "print(f\"the focal length is {f.nominal_value:.3} cm and the error is {f.std_dev:.3}\")"
      ]
    },
    {
      "cell_type": "markdown",
      "metadata": {
        "id": "epD2G5SYtg-r"
      },
      "source": [
        "## Exercise 4\n",
        "[2] Two students each measure the refractive index of water. Jack measures a value of $1.33 \\pm 0.03$ while Jill measures $1.28 \\pm 0.02$. Are these values in agreement? *You do have to think a bit about this one...*"
      ]
    },
    {
      "cell_type": "code",
      "execution_count": 9,
      "metadata": {
        "colab": {
          "base_uri": "https://localhost:8080/"
        },
        "id": "LJuGqE9otg-s",
        "outputId": "f5d99eaf-78f5-434c-8279-7ea278c7d57a"
      },
      "outputs": [
        {
          "output_type": "stream",
          "name": "stdout",
          "text": [
            "the difference between Jack and Jill's values of the refractive index is 0.05 and the error is 0.0361\n",
            "the difference is larger than the error therefore the two values are not in agreement\n"
          ]
        }
      ],
      "source": [
        "#to see if the values aggree, you can look at the range of refractive indexes both measured\n",
        "#come back to this question\n",
        "Ja = uc.ufloat(1.33, 0.03)\n",
        "Ji = uc.ufloat(1.28, 0.02)\n",
        "\n",
        "#perform the calculation\n",
        "diff = Ja - Ji\n",
        "\n",
        "#print the outcome\n",
        "print(f\"the difference between Jack and Jill's values of the refractive index is {diff.nominal_value:.3} and the error is {diff.std_dev:.3}\")\n",
        "#the values and their errors can be plotted as a gaussian distribution, the error is the standard deviation and the value is the mean\n",
        "#for both of the distributions, the mean of one measurement falls out of the range of one SD from the other mean, this means they are not in agreement.\n",
        "print(f\"the difference is larger than the error therefore the two values are not in agreement\")"
      ]
    },
    {
      "cell_type": "markdown",
      "metadata": {
        "id": "R5Bonj8Ctg-s"
      },
      "source": [
        "## Exercise 5\n",
        "[2] The damped resonance frequency $\\omega_{res}$ of an oscillating system is related to the (un-damped) natural angular frequency $\\omega_0$ and the damping coefficient $\\alpha$ by:\n",
        "\n",
        "$$\\omega_{res} = \\sqrt{ \\omega_0^2 - 2\\alpha^2}$$\n",
        "\n",
        "Find $f_0$ if the measured resonance frequency $f_{res}$ is $23.2\\pm0.1 Hz$ and the measured damping coefficient is $19.5\\pm0.5s^{-1}$.\n"
      ]
    },
    {
      "cell_type": "code",
      "execution_count": null,
      "metadata": {
        "colab": {
          "base_uri": "https://localhost:8080/"
        },
        "id": "0Ffjuh73tg-s",
        "outputId": "b2a70eca-f3f5-46c8-bb7e-eaa597aa0d32"
      },
      "outputs": [
        {
          "output_type": "stream",
          "name": "stdout",
          "text": [
            "the value of f_0 is 23.6 Hz, and the uncertainty is 0.1\n"
          ]
        }
      ],
      "source": [
        "#define the variables\n",
        "f_res = uc.ufloat(23.2, 0.1)\n",
        "a = uc.ufloat(19.5, 0.5)\n",
        "#sustitute into w = 2*pi*f into both w_res and w_0\n",
        "#then rearrange the equation above for f_0\n",
        "# use um.sqrt instead of np.sqrt, because np.__ will not take account of the uncertainties\n",
        "f_0 = (um.sqrt((2*np.pi*f_res)**2 + (2*(a**2))))/(2*np.pi)\n",
        "\n",
        "\n",
        "#perform the calculation\n",
        "print(f\"the value of f_0 is {f_0.nominal_value:.3} Hz, and the uncertainty is {f_0.std_dev:.3}\")"
      ]
    },
    {
      "cell_type": "markdown",
      "metadata": {
        "id": "-UzgTSD7tg-s"
      },
      "source": [
        "## Exercise 6\n",
        "[2] Suppose you have the following equation from one of your lab experiments:\n",
        "\n",
        "$$f=\\frac{c}{2}\\sqrt{\\frac{n_x^2}{L_x^2}+\\frac{n_y^2}{L_y^2}+\\frac{n_z^2}{L_z^2}}$$\n",
        "\n",
        "where $f$ is the resonant frequency of sound waves in a box of sides $L_x$, $L_y$ and $L_z$ in length and the $n_x$ etc. are integers. $L_x = 10.2\\pm0.2m$, $L_y = 5.2\\pm0.3m$ and $L_z = 20.0\\pm0.1 m$, while $c = 331.3 + T * 0.606 \\,m\\,s^{-1}$ is the temperature-dependent speed of sound, and the temperature $T$ is $23 \\pm 1^\\circ C$.\n",
        "Calculate $f$ and the error in $f$ for the following values of $(nx,ny,nz)= (1,1,1), (1,1,2)$ and $(2,1,1)$.\n"
      ]
    },
    {
      "cell_type": "code",
      "execution_count": null,
      "metadata": {
        "colab": {
          "base_uri": "https://localhost:8080/"
        },
        "id": "Nu0xSStMtg-s",
        "outputId": "c6bed739-1fc9-462b-b2c2-1d983270c843"
      },
      "outputs": [
        {
          "output_type": "stream",
          "name": "stdout",
          "text": [
            "part 1\n",
            "the value of the resonant frequncy when (nx,ny,nz) = (1,1,1) is 38.2 and the uncertainty is 1.67\n",
            "\n",
            "\n",
            "part 2\n",
            "the value of the resonant frequncy when (nx,ny,nz) = (1,1,2) is 41.1 and the uncertainty is 1.56\n",
            "\n",
            "\n",
            "part 3\n",
            "the value of the resonant frequncy when (nx,ny,nz) = (2,1,1) is 48.2 and the uncertainty is 1.4\n"
          ]
        }
      ],
      "source": [
        "#define the variables\n",
        "#part 1\n",
        "L_x = uc.ufloat(10.2, 0.2)\n",
        "L_y = uc.ufloat(5.2, 0.3)\n",
        "L_z = uc.ufloat(20, 0.1)\n",
        "T = uc.ufloat(23,1)\n",
        "c = 331.3 + T*0.606\n",
        "n_1 = np.array([1, 1, 1])\n",
        "n_2 = np.array([1, 1, 2])\n",
        "n_3 = np.array([2, 1, 1])\n",
        "\n",
        "#the first formula\n",
        "f_1 = (c/2)*(um.sqrt(((n_1[0]**2)/(L_x**2)) + ((n_1[1]**2)/(L_y**2)) + ((n_1[2]**2)/(L_z**2))))\n",
        "\n",
        "\n",
        "#the second formula\n",
        "f_2 = (c/2)*(um.sqrt(((n_2[0]**2)/(L_x**2)) + ((n_2[1]**2)/(L_y**2)) + ((n_2[2]**2)/(L_z**2))))\n",
        "\n",
        "#the third formula\n",
        "f_3 = (c/2)*(um.sqrt(((n_3[0]**2)/(L_x**2)) + ((n_3[1]**2)/(L_y**2)) + ((n_3[2]**2)/(L_z**2))))\n",
        "\n",
        "\n",
        "#displaying the answer\n",
        "print(f\"part 1\")\n",
        "print(f\"the value of the resonant frequncy when (nx,ny,nz) = (1,1,1) is {f_1.nominal_value:.3} and the uncertainty is {f_1.std_dev:.3}\")\n",
        "print(\"\\n\")\n",
        "print(f\"part 2\")\n",
        "print(f\"the value of the resonant frequncy when (nx,ny,nz) = (1,1,2) is {f_2.nominal_value:.3} and the uncertainty is {f_2.std_dev:.3}\")\n",
        "print(\"\\n\")\n",
        "print(f\"part 3\")\n",
        "print(f\"the value of the resonant frequncy when (nx,ny,nz) = (2,1,1) is {f_3.nominal_value:.3} and the uncertainty is {f_3.std_dev:.3}\")"
      ]
    },
    {
      "cell_type": "markdown",
      "metadata": {
        "id": "YxCOG_zxtg-s"
      },
      "source": [
        "## Exercise 7\n",
        "[4] The reflection coefficient $R_\\parallel$ for parallel plane-polarised light reflected from a surface is given by the equation:\n",
        "\n",
        "$$ R_\\parallel = \\frac{\\tan^2(\\theta_i - \\theta_t)}{\\tan^2(\\theta_i + \\theta_t)} $$\n",
        "\n",
        "Calculate the error in $R_\\parallel$ given measurements $\\theta_i = (78 \\pm 1)^\\circ$ and $\\theta_t = (40 \\pm 1)^\\circ$."
      ]
    },
    {
      "cell_type": "code",
      "source": [
        "#define the variable\n",
        "theta_i = uc.ufloat(78, 1)\n",
        "theta_t = uc.ufloat(40, 1)\n",
        "\n",
        "#perform the calculation\n",
        "R_parallel = ((um.tan(theta_i - theta_t))**2)/((um.tan(theta_i + theta_t))**2)\n",
        "\n",
        "#display the answer\n",
        "print(f\"the reflection coefficient is {R_parallel.nominal_value:.3} and the uncertainty is {R_parallel.std_dev:.3}\")\n",
        "print(f\"the uncertainty in the reflection coefficient is {R_parallel.std_dev:.3}\")"
      ],
      "metadata": {
        "colab": {
          "base_uri": "https://localhost:8080/"
        },
        "id": "mtI4mWD8-EbQ",
        "outputId": "e05767fb-22ff-4c09-81e9-158d1da9538e"
      },
      "execution_count": null,
      "outputs": [
        {
          "output_type": "stream",
          "name": "stdout",
          "text": [
            "the reflection coefficient is 0.00357 and the uncertainty is 0.0651\n",
            "the uncertainty in the reflection coefficient is 0.0651\n"
          ]
        }
      ]
    },
    {
      "cell_type": "markdown",
      "metadata": {
        "id": "poUZ2BHQtg-t"
      },
      "source": [
        "## Exercise 8\n",
        "[4] Calculate and print to the screen the fractional uncertainty, as a percentage to one\n",
        "significant figure, of the fluid flow discharge coefficient $C_d$ from the equation\n",
        "\n",
        "$$\n",
        "C_d = \\frac{\\dot{m}\\sqrt{1-\\left(\\frac{d}{D}\\right)^4}}{Kd^2F\\sqrt{\\rho\\Delta P}}\n",
        "$$\n",
        "\n",
        "where\n",
        "\n",
        "\\begin{align*}\n",
        "    C_d &= \\text{discharge coefficient}&& \\text{(no units)} \\\\\n",
        "    \\dot{m} &= \\text{mass flow rate}&& = 0.13 \\pm 0.01kg\\,s^{-1} \\\\\n",
        "    d &= \\text{orifice diameter}&& = 11\\pm 1 mm \\\\\n",
        "    D &= \\text{pipe diameter}&& = 71 \\pm 1 mm \\\\\n",
        "    \\rho &= \\text{fluid density}&& =1.01\\pm0.01g\\,cm^{-3} \\\\\n",
        "    \\Delta P &= \\text{differential pressure}&& =156 \\pm 7 Pa \\\\\n",
        "    K &= \\text{a constant parameter}&& =\\text{constant (no units)} \\\\\n",
        "    F &= \\text{thermal expansion factor}&& =\\text{constant (no units)}\n",
        "\\end{align*}\n"
      ]
    },
    {
      "cell_type": "code",
      "execution_count": null,
      "metadata": {
        "colab": {
          "base_uri": "https://localhost:8080/"
        },
        "id": "40SIAauBtg-t",
        "outputId": "95d9a03f-e845-471f-e8b9-77652f3e55de"
      },
      "outputs": [
        {
          "output_type": "stream",
          "name": "stdout",
          "text": [
            "the value of the flow discharge coefficient, C_d, is 2.71 and the error is 0.538\n",
            "the percentage error is 2e+01\n"
          ]
        }
      ],
      "source": [
        "# defining the variables\n",
        "m = uc.ufloat(0.13, 0.01)\n",
        "d = uc.ufloat(11, 1)\n",
        "D = uc.ufloat(71, 1)\n",
        "rho = uc.ufloat(1.01, 0.01)\n",
        "P = uc.ufloat(156, 7)\n",
        "K = 1\n",
        "F = 1\n",
        "d = d/1000\n",
        "D = D/1000\n",
        "rho = rho*1000\n",
        "\n",
        "#perform the calculation\n",
        "C_d = (m*um.sqrt(1-(d/D)**4))/(K*(d**2)*F*(um.sqrt(rho*P)))\n",
        "\n",
        "#display the answer\n",
        "print(f\"the value of the flow discharge coefficient, C_d, is {C_d.nominal_value:.3} and the error is {C_d.std_dev:.3}\")\n",
        "percentage_C_d = (C_d.s/C_d.n)*100\n",
        "print(f\"the percentage error is {percentage_C_d:.2}\")"
      ]
    },
    {
      "cell_type": "markdown",
      "metadata": {
        "id": "xoEAP6altg-u"
      },
      "source": [
        "## Exercise 9: Optional problem (not marked)\n",
        "If you have time and want to try something interesting, do the following problem by plotting in 2D:\n",
        " - Draw an equilateral triangle with vertices and coordinates: vertex 1: $(p_1,q_1)$; vertex 2: $(p_2, q_2)$; vertex 3: $(p_3, q_3)$.\n",
        " - Place a dot at an arbitrary point $P = (x_0, y_0)$ within this triangle.\n",
        " - Find the next point by selecting randomly an integer $n = 1 , 2, $  or $3$ :\n",
        "    1. If 1 , place a dot halfway between P and vertex 1.\n",
        "    2. If 2 , place a dot halfway between P and vertex 2.\n",
        "    3. If 3 , place a dot halfway between P and vertex 3.\n",
        " - Repeat the last two steps using the last dot as the new P.\n",
        "\n",
        "Mathematically, the coordinates of successive points are given by the formulae\n",
        "\n",
        "$$(x_{i+1},y_{i+1})=0.5[(x_i,y_i)+(p_n,q_n)]$$\n",
        "\n",
        "and\n",
        "\n",
        "$$n=int(1+3r_i),$$\n",
        "\n",
        "where $r_i$ is a random number between 0 and 1 and where the $int()$ function outputs the closest integer smaller than or equal to the argument.\n",
        "\n",
        "Try extending this to four vertices."
      ]
    },
    {
      "cell_type": "code",
      "execution_count": null,
      "metadata": {
        "id": "UbbMOVrttg-u"
      },
      "outputs": [],
      "source": []
    }
  ],
  "metadata": {
    "kernelspec": {
      "display_name": "Python 3",
      "language": "python",
      "name": "python3"
    },
    "language_info": {
      "codemirror_mode": {
        "name": "ipython",
        "version": 3
      },
      "file_extension": ".py",
      "mimetype": "text/x-python",
      "name": "python",
      "nbconvert_exporter": "python",
      "pygments_lexer": "ipython3",
      "version": "3.7.10"
    },
    "colab": {
      "provenance": []
    }
  },
  "nbformat": 4,
  "nbformat_minor": 0
}